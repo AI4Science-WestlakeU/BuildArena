{
 "cells": [
  {
   "cell_type": "markdown",
   "metadata": {},
   "source": [
    "# Introduction of 3D Spatial Computation Library\n",
    "\n",
    "This notebook demonstrates the basic functionality of the text-based 3D spatial computation library. It shows how to:\n",
    "- Initialize a machine with available blocks\n",
    "- Explore the available tools and their documentation\n",
    "- Build a simple car structure using wooden blocks\n",
    "- Handle attachment operations and save the machine to file\n",
    "- Reuse saved machines as sub-structures in assembly\n",
    "\n",
    "The test creates a small car frame with vertical structure and suspension components.\n",
    "The visualization is for collider boxes instead of the block mesh, providing a method to debug the collider settings.\n",
    "\n",
    "## 1. Build:\n",
    "### 1.1 Initialize ``Machine()``:\n",
    "- Start with initialize a ``Machine``\n",
    "- Review the tool descriptions, the tools are provided with the doc strings to the Agent\n",
    "- Review the Block descriptions, the available blocks are added to the Agent system prompt"
   ]
  },
  {
   "cell_type": "code",
   "execution_count": null,
   "metadata": {},
   "outputs": [],
   "source": [
    "import os\n",
    "from spatial.build import Machine\n",
    "from spatial.utils import machine_preview\n",
    "\n",
    "from config import SavedMachines\n",
    "\n",
    "machine = Machine(name=\"small_car_hm\", save_dir=SavedMachines)\n",
    "print(machine.blocks_storage())\n",
    "for tool_group in machine.tools:\n",
    "    print(f\"tool_group: {tool_group}\")\n",
    "    for tool in machine.tools[tool_group]:\n",
    "        print(tool.__name__)\n",
    "        print(tool.__doc__)\n",
    "        print(\"-\"*100)\n",
    "\n",
    "AvailableBlocks = machine.blocks_storage()\n",
    "print(AvailableBlocks)\n",
    "\n",
    "save_dir = os.path.join(os.path.dirname(machine.db_path), \"machine\", machine.name)\n",
    "os.makedirs(save_dir, exist_ok=True)"
   ]
  },
  {
   "cell_type": "markdown",
   "metadata": {},
   "source": [
    "### 1.2 Start building:\n",
    "- ``Machine.start()`` is a tool only provided in the ``build`` stage:"
   ]
  },
  {
   "cell_type": "code",
   "execution_count": null,
   "metadata": {},
   "outputs": [],
   "source": [
    "machine.start(init_shift=[0, 0, 0], init_rotation=[0, 0, 0])"
   ]
  },
  {
   "cell_type": "markdown",
   "metadata": {},
   "source": [
    "### 1.3 Build by attaching new blocks:\n",
    "- ``Machine.attach_block_to()`` is the most important and the most frequently used tool, Agent executes the building process by assigning the ``base_block``, ``face``, ``new_block``, and ``Optional[note]`` to the tool:"
   ]
  },
  {
   "cell_type": "code",
   "execution_count": null,
   "metadata": {},
   "outputs": [],
   "source": [
    "# Vertical frame\n",
    "machine.attach_block_to(base_block=1, face=\"E\", new_block=\"Small Wooden Block\")\n",
    "machine.attach_block_to(base_block=1, face=\"F\", new_block=\"Small Wooden Block\")\n",
    "machine.attach_block_to(base_block=2, face=\"C\", new_block=\"Small Wooden Block\", note=\"Top of the frame\")\n",
    "# Suspensions\n",
    "machine.attach_block_to(base_block=2, face=\"A\", new_block=\"Small Wooden Block\")\n",
    "machine.attach_block_to(base_block=2, face=\"B\", new_block=\"Small Wooden Block\")\n",
    "machine.attach_block_to(base_block=3, face=\"A\", new_block=\"Small Wooden Block\")\n",
    "machine.attach_block_to(base_block=3, face=\"B\", new_block=\"Small Wooden Block\")\n",
    "\n",
    "# Further extension of the frame\n",
    "machine.attach_block_to(base_block=5, face=\"B\", new_block=\"Small Wooden Block\")\n",
    "machine.attach_block_to(base_block=6, face=\"A\", new_block=\"Small Wooden Block\")\n",
    "machine.attach_block_to(base_block=7, face=\"B\", new_block=\"Small Wooden Block\")\n",
    "machine.attach_block_to(base_block=8, face=\"A\", new_block=\"Small Wooden Block\")\n",
    "\n",
    "scene = machine_preview(machine)\n",
    "scene.show()"
   ]
  },
  {
   "cell_type": "markdown",
   "metadata": {},
   "source": [
    "- All building operations including ``Machine.attach_block_to()``, ``Machine.twist_block()``, and ``Machine.shift_block()`` check the validity of the input arguments, in case of: \n",
    "    - ``bask_block`` not found\n",
    "    - ``face`` occupied or not existing\n",
    "    - ``new_block`` not available\n",
    "    - Blocks overlap"
   ]
  },
  {
   "cell_type": "code",
   "execution_count": null,
   "metadata": {},
   "outputs": [],
   "source": [
    "# Extra step to test the failure logging\n",
    "# Face occupied\n",
    "machine.attach_block_to(base_block=8, face=\"A\", new_block=\"Small Wooden Block\")\n",
    "# Base block not found\n",
    "machine.attach_block_to(base_block=42, face=\"A\", new_block=\"Small Wooden Block\")\n",
    "# New block not available\n",
    "machine.attach_block_to(base_block=8, face=\"A\", new_block=\"Cannon\")\n",
    "# Block overlap\n",
    "machine.attach_block_to(base_block=1, face=\"C\", new_block=\"Powered Wheel\")\n",
    "machine.to_file(save_dir)"
   ]
  },
  {
   "cell_type": "code",
   "execution_count": null,
   "metadata": {},
   "outputs": [],
   "source": [
    "# Wheels\n",
    "machine.attach_block_to(base_block=9, face=\"A\", new_block=\"Powered Wheel\")\n",
    "machine.attach_block_to(base_block=10, face=\"B\", new_block=\"Powered Wheel\")\n",
    "machine.attach_block_to(base_block=11, face=\"A\", new_block=\"Powered Wheel\")\n",
    "machine.attach_block_to(base_block=12, face=\"B\", new_block=\"Powered Wheel\")\n",
    "# Flip half of the wheels\n",
    "machine.flip_spin(14)\n",
    "machine.flip_spin(16)\n",
    "machine.to_file(save_dir)\n",
    "\n",
    "scene = machine_preview(machine)\n",
    "scene.show()\n"
   ]
  },
  {
   "cell_type": "markdown",
   "metadata": {},
   "source": [
    "### 1.4 Making connections:\n",
    "- ``Machine.connect_blocks()`` is responsible for connecting two attachable faces (or \"sticky\" face in code) of existing blocks with a ``Connector()``(child class of ``Block()``) instance\n",
    "- ``Connector()`` does not have a collider box (according to the game setting)."
   ]
  },
  {
   "cell_type": "code",
   "execution_count": null,
   "metadata": {},
   "outputs": [],
   "source": [
    "machine.connect_blocks(block_a=3, face_a='D', block_b=4, face_b='E', connector='Winch')\n",
    "machine.connect_blocks(block_a=9, face_a='C', block_b=10, face_b='C', connector='Brace')\n",
    "machine.connect_blocks(block_a=11, face_a='D', block_b=12, face_b='D', connector='Brace')\n",
    "machine.connect_blocks(block_a=11, face_a='D', block_b=9, face_b='C', connector='Brace')\n",
    "machine.connect_blocks(block_a=12, face_a='D', block_b=10, face_b='C', connector='Brace')\n",
    "machine.connect_blocks(block_a=15, face_a='E', block_b=16, face_b='E', connector='Brace')\n",
    "machine.connect_blocks(block_a=13, face_a='E', block_b=14, face_b='E', connector='Brace')"
   ]
  },
  {
   "cell_type": "code",
   "execution_count": null,
   "metadata": {},
   "outputs": [],
   "source": [
    "# Add the water cannon and torch\n",
    "machine.attach_block_to(base_block=4, face=\"E\", new_block=\"Water Cannon\")\n",
    "machine.twist_block(24, 180)\n",
    "machine.attach_block_to(base_block=4, face=\"D\", new_block=\"Torch\")"
   ]
  },
  {
   "cell_type": "markdown",
   "metadata": {},
   "source": [
    "- All building operations lead to modification of block position and orientation, including ``Machine.attach_block_to()``, ``Machine.twist_block()``, and ``Machine.shift_block()``, have internal collision checking mechanism to make sure the collider boxes of the blocks do not overlap."
   ]
  },
  {
   "cell_type": "code",
   "execution_count": null,
   "metadata": {},
   "outputs": [],
   "source": [
    "machine.shift_block(24, [0, 0, -1])"
   ]
  },
  {
   "cell_type": "markdown",
   "metadata": {},
   "source": [
    "### 1.5 Control:\n",
    "- ``Machine()`` provides a series of tools for open-loop controlling:"
   ]
  },
  {
   "cell_type": "code",
   "execution_count": null,
   "metadata": {},
   "outputs": [],
   "source": [
    "print(machine.review_control_config())"
   ]
  },
  {
   "cell_type": "code",
   "execution_count": null,
   "metadata": {},
   "outputs": [],
   "source": [
    "machine.change_control_key(16, 'spinning_forward', 'Alpha2')\n",
    "machine.change_control_key(15, 'spinning_forward', 'Alpha2')"
   ]
  },
  {
   "cell_type": "code",
   "execution_count": null,
   "metadata": {},
   "outputs": [],
   "source": [
    "machine.add_control_sequence(time=0, key='Alpha2', hold_for=5)\n",
    "machine.add_control_sequence(time=5, key='UpArrow', hold_for=3)\n",
    "machine.add_control_sequence(time=10, key='DownArrow', hold_for=5)"
   ]
  },
  {
   "cell_type": "markdown",
   "metadata": {},
   "source": [
    "### 1.6 Review the Machine state:\n",
    "- ``Machine.prompt`` property dynamically update the state of the machine as feedback to the Agent"
   ]
  },
  {
   "cell_type": "code",
   "execution_count": null,
   "metadata": {},
   "outputs": [],
   "source": [
    "machine.update_prompt(complete=True, return_summary=True)\n",
    "print(machine.prompt)"
   ]
  },
  {
   "cell_type": "markdown",
   "metadata": {},
   "source": [
    "### 1.6 Save and Load the building trajectory:\n",
    "- ``Machine()`` saves the latest building operation history excluding all filed operations for loading the operation history file back into a ``Machine()`` instance.\n",
    "- It also records another full operation history for analysis."
   ]
  },
  {
   "cell_type": "code",
   "execution_count": null,
   "metadata": {},
   "outputs": [],
   "source": [
    "print(\"operation_history:\")\n",
    "for op in machine.operation_history:\n",
    "    print(op)\n",
    "\n",
    "print(\"operation_history_full:\")\n",
    "for op in machine.operation_history_full:\n",
    "    print(op)"
   ]
  },
  {
   "cell_type": "code",
   "execution_count": null,
   "metadata": {},
   "outputs": [],
   "source": [
    "machine.rebuild_from_history()\n",
    "\n",
    "scene = machine_preview(machine)\n",
    "scene.show()"
   ]
  },
  {
   "cell_type": "markdown",
   "metadata": {},
   "source": [
    "### 1.7 Save the ``Machine()`` as ``BSG`` file:\n",
    "- ``Machine.to_file()`` saves the machine into game-ready ``BSG`` file.\n",
    "- The control sequence will be saved in the ``BSG`` file using ``Lua`` script MOD"
   ]
  },
  {
   "cell_type": "code",
   "execution_count": null,
   "metadata": {},
   "outputs": [],
   "source": [
    "machine.to_file(output_dir=save_dir)"
   ]
  },
  {
   "cell_type": "markdown",
   "metadata": {},
   "source": [
    "### 1.8 Load a Machine: \n",
    "- ``Machine.from_file()`` utilizes ``Machine.rebuild_from_history()`` after machine has been saved to reload a operation history ``JSON`` file back to instance:"
   ]
  },
  {
   "cell_type": "code",
   "execution_count": null,
   "metadata": {},
   "outputs": [],
   "source": [
    "name = \"small_car_hm\"\n",
    "machine.from_file(file_path=os.path.join(save_dir, f\"{name}.json\"))\n",
    "scene = machine_preview(machine)\n",
    "scene.show()"
   ]
  },
  {
   "cell_type": "markdown",
   "metadata": {},
   "source": [
    "### 1.9 Global adjustment:\n",
    "- ``Machine.rotate()`` and ``Machine.shift()`` are not exposed to Agents as tools in the ``build`` stage, here is to verify the operation on the colliders:"
   ]
  },
  {
   "cell_type": "code",
   "execution_count": null,
   "metadata": {},
   "outputs": [],
   "source": [
    "machine.rotate(0, 0, 70)\n",
    "scene = machine_preview(machine)\n",
    "scene.show()"
   ]
  },
  {
   "cell_type": "code",
   "execution_count": null,
   "metadata": {},
   "outputs": [],
   "source": [
    "machine.shift([-5, 0, 0])\n",
    "scene = machine_preview(machine)\n",
    "scene.show()"
   ]
  },
  {
   "cell_type": "markdown",
   "metadata": {},
   "source": [
    "## 2. Assemble:\n",
    "### 2.1 Initialize the ``Assembly()``：\n",
    "- ``Assembly()`` is a child class of ``Machine()``, inherits all functions and tools from ``Machine()``\n",
    "- Special tools exclusively used in ``assemble`` stage allow using multiple saved machine as sub-structures in the entire structure"
   ]
  },
  {
   "cell_type": "code",
   "execution_count": null,
   "metadata": {},
   "outputs": [],
   "source": [
    "from spatial.build import Assembly\n",
    "from spatial.utils import machine_preview\n",
    "\n",
    "from config import SavedMachines\n",
    "\n",
    "assembly = Assembly(name=\"assemble\", save_dir=SavedMachines, db_path=\"./datacache/default/machine\")\n",
    "for tool_group in assembly.tools:\n",
    "    print(tool_group)\n",
    "    for tool in assembly.tools[tool_group]:\n",
    "        print(tool.__name__)\n",
    "        print(tool.__doc__)\n",
    "        print(\"-\"*100)\n",
    "\n",
    "assembly.reset()"
   ]
  },
  {
   "cell_type": "markdown",
   "metadata": {},
   "source": [
    "### 2.2 Add a ``Machine()``：\n",
    "- ``Assembly.add_machine()`` adds a saved machine as a sub-structure"
   ]
  },
  {
   "cell_type": "code",
   "execution_count": null,
   "metadata": {},
   "outputs": [],
   "source": [
    "assembly.add_machine(machine_id=\"small_car_hm\", init_shift=[-5, 0, 0], init_rotation=[0, 0, 0])\n",
    "assembly.add_machine(machine_id=\"small_car_hm\", init_shift=[5, 0, 0], init_rotation=[0, 0, 0])\n",
    "assembly.shift_machine(\"A\", [5, 0, 0])\n",
    "assembly.rotate_machine(\"A\", [0, 0, -45])\n",
    "assembly.rotate_machine(\"B\", [0, 0, 45])"
   ]
  },
  {
   "cell_type": "markdown",
   "metadata": {},
   "source": [
    "### 2.3 Making modifications:\n",
    "- Building operations in the ``build`` stage also work in the ``assemble`` stage"
   ]
  },
  {
   "cell_type": "code",
   "execution_count": null,
   "metadata": {},
   "outputs": [],
   "source": [
    "assembly.connect_blocks(block_a='A_2', face_a='C', block_b='B_2', face_b='C', connector='Brace')\n",
    "assembly.attach_block_to(base_block='A_3', face='D', new_block='Small Wooden Block')\n",
    "assembly.attach_block_to(base_block='B_3', face='D', new_block='Small Wooden Block')"
   ]
  },
  {
   "cell_type": "markdown",
   "metadata": {},
   "source": [
    "### 2.4 Review the Assembly:\n",
    "- ``Assembly.prompt`` property dynamically update the state of the assembly as feedback to the Agent"
   ]
  },
  {
   "cell_type": "code",
   "execution_count": null,
   "metadata": {},
   "outputs": [],
   "source": [
    "assembly.update_prompt(complete=True, return_summary=True)\n",
    "print(assembly.prompt)"
   ]
  },
  {
   "cell_type": "code",
   "execution_count": null,
   "metadata": {},
   "outputs": [],
   "source": [
    "assembly.rebuild_from_history()\n",
    "scene = machine_preview(assembly)\n",
    "scene.show()"
   ]
  },
  {
   "cell_type": "markdown",
   "metadata": {},
   "source": [
    "### 2.5 Save the ``Assembly()``:\n",
    "- ``Assembly()`` has the same saving  mechanism as ``Machine()``"
   ]
  },
  {
   "cell_type": "code",
   "execution_count": null,
   "metadata": {},
   "outputs": [],
   "source": [
    "assembly.to_file(output_dir=f\"./datacache/default/machine/{assembly.name}\")"
   ]
  },
  {
   "cell_type": "markdown",
   "metadata": {},
   "source": [
    "### 2.6 Load the ``Assembly()``:\n",
    "- ``Assembly()`` has the same loading mechanism as ``Machine()``"
   ]
  },
  {
   "cell_type": "code",
   "execution_count": null,
   "metadata": {},
   "outputs": [],
   "source": [
    "assembly.from_file(file_path=\"datacache/default/machine/assemble/assemble.json\")\n",
    "scene = machine_preview(assembly)\n",
    "scene.show()"
   ]
  },
  {
   "cell_type": "markdown",
   "metadata": {},
   "source": [
    "### 2.7 Reuse the ``Assembly()`` as sub-structures:\n",
    "- ``Assembly()`` can also be reused as sub-structures mixed with ``Machine()``"
   ]
  },
  {
   "cell_type": "code",
   "execution_count": null,
   "metadata": {},
   "outputs": [],
   "source": [
    "assembly = Assembly(name=\"assemble_2\", save_dir=SavedMachines, db_path=\"./datacache/default/machine\")\n",
    "\n",
    "assembly.add_machine(machine_id=\"assemble\", init_shift=[0, 0, 0], init_rotation=[0, 0, 0])\n",
    "assembly.add_machine(machine_id=\"assemble\", init_shift=[0, 8, 0], init_rotation=[0, 0, 0])\n",
    "assembly.add_machine(machine_id=\"small_car_hm\", init_shift=[2.5, -2, 4], init_rotation=[0, 0, 0])\n",
    "\n",
    "scene = machine_preview(assembly)\n",
    "scene.show()"
   ]
  },
  {
   "cell_type": "code",
   "execution_count": null,
   "metadata": {},
   "outputs": [],
   "source": [
    "assembly.to_file(output_dir=\"datacache/default/machine/assemble_2\")"
   ]
  },
  {
   "cell_type": "markdown",
   "metadata": {},
   "source": [
    "- And of course an ``Assembly()`` that has multiple ``Assembly()`` and ``Machine()`` can be reused for further combination as well, recreating the ``copy`` mechanism of the game"
   ]
  },
  {
   "cell_type": "code",
   "execution_count": null,
   "metadata": {},
   "outputs": [],
   "source": [
    "assembly = Assembly(name=\"assemble_3\", save_dir=SavedMachines, db_path=\"./datacache/default/machine\")\n",
    "\n",
    "assembly.add_machine(machine_id=\"assemble_2\", init_shift=[0, 0, 0], init_rotation=[0, 0, 0])\n",
    "assembly.add_machine(machine_id=\"small_car_hm\", init_shift=[2.5, -2, -4], init_rotation=[0, 0, 0])\n",
    "\n",
    "scene = machine_preview(assembly)\n",
    "scene.show()"
   ]
  },
  {
   "cell_type": "code",
   "execution_count": null,
   "metadata": {},
   "outputs": [],
   "source": [
    "assembly.to_file(output_dir=\"datacache/default/machine/assemble_3\")"
   ]
  }
 ],
 "metadata": {
  "kernelspec": {
   "display_name": ".venv",
   "language": "python",
   "name": "python3"
  },
  "language_info": {
   "codemirror_mode": {
    "name": "ipython",
    "version": 3
   },
   "file_extension": ".py",
   "mimetype": "text/x-python",
   "name": "python",
   "nbconvert_exporter": "python",
   "pygments_lexer": "ipython3",
   "version": "3.12.7"
  }
 },
 "nbformat": 4,
 "nbformat_minor": 2
}
